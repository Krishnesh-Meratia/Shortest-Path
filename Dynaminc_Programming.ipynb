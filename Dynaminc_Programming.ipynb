{
 "cells": [
  {
   "cell_type": "code",
   "execution_count": 1,
   "metadata": {},
   "outputs": [],
   "source": [
    "import numpy as np\n",
    "import matplotlib.pyplot as plt"
   ]
  },
  {
   "cell_type": "code",
   "execution_count": 2,
   "metadata": {},
   "outputs": [],
   "source": [
    "state = np.arange(-4,5)\n",
    "control = np.arange(-2,3)\n",
    "state_size = state.size\n",
    "control_size = control.size"
   ]
  },
  {
   "cell_type": "code",
   "execution_count": 3,
   "metadata": {},
   "outputs": [],
   "source": [
    "import numpy as np\n",
    "import matplotlib.pyplot as plt\n",
    "state = np.arange(-4,5)\n",
    "control = np.arange(-2,3)\n",
    "state_size = state.size\n",
    "control_size = control.size\n",
    "def Problem1_fn():\n",
    "    cost_list = []\n",
    "    control_list = []\n",
    "    for i in range(0,16):\n",
    "        cost_final_list=[]\n",
    "        control_final_list=[]\n",
    "        if(i == 0):\n",
    "            for j in range(0,state_size):\n",
    "                if(state[j]==0):\n",
    "                    cost_final_list.append(0)\n",
    "                else:\n",
    "                    cost_final_list.append(float('inf'))\n",
    "        else:\n",
    "            for j in range(0,state_size):\n",
    "                cost_final = float('inf')\n",
    "                c = -4\n",
    "                for k in range(0,control_size):\n",
    "                    check = state[j]+control[k]\n",
    "                    if(check<5 and check>-5):\n",
    "                        cost_check = cost_list[-1][check+4]+(state[j]+4)*(state[j]+4)+control[k]*control[k]\n",
    "                        if(cost_check<cost_final):\n",
    "                            c = control[k]\n",
    "                            cost_final = cost_check\n",
    "                cost_final_list.append(cost_final)\n",
    "                control_final_list.append(c)\n",
    "        cost_list.append(cost_final_list)\n",
    "        if(i!=0):\n",
    "            control_list.append(control_final_list)\n",
    "    return cost_list,control_list"
   ]
  },
  {
   "cell_type": "code",
   "execution_count": 4,
   "metadata": {},
   "outputs": [
    {
     "name": "stdout",
     "output_type": "stream",
     "text": [
      "[[inf, inf, inf, inf, 0, inf, inf, inf, inf], [inf, inf, 8, 10, 16, 26, 40, inf, inf], [12, 10, 12, 18, 27, 39, 56, 79, 108], [11, 11, 15, 22, 32, 47, 67, 92, 124], [11, 12, 16, 24, 35, 51, 72, 100, 135], [11, 13, 17, 25, 36, 53, 75, 104, 140], [11, 13, 18, 26, 37, 54, 76, 106, 143], [11, 13, 18, 26, 38, 55, 77, 107, 144], [11, 13, 18, 26, 38, 55, 78, 108, 145], [11, 13, 18, 26, 38, 55, 78, 108, 146], [11, 13, 18, 26, 38, 55, 78, 108, 146], [11, 13, 18, 26, 38, 55, 78, 108, 146], [11, 13, 18, 26, 38, 55, 78, 108, 146], [11, 13, 18, 26, 38, 55, 78, 108, 146], [11, 13, 18, 26, 38, 55, 78, 108, 146], [11, 13, 18, 26, 38, 55, 78, 108, 146]]\n",
      "[[-4, -4, 2, 1, 0, -1, -2, -4, -4], [2, 1, 0, -1, -1, -2, -2, -2, -2], [1, 0, -1, -1, -2, -2, -2, -2, -2], [0, 0, -1, -2, -2, -2, -2, -2, -2], [0, -1, -1, -2, -2, -2, -2, -2, -2], [0, -1, -1, -2, -2, -2, -2, -2, -2], [0, -1, -1, -2, -2, -2, -2, -2, -2], [0, -1, -1, -2, -2, -2, -2, -2, -2], [0, -1, -1, -2, -2, -2, -2, -2, -2], [0, -1, -1, -2, -2, -2, -2, -2, -2], [0, -1, -1, -2, -2, -2, -2, -2, -2], [0, -1, -1, -2, -2, -2, -2, -2, -2], [0, -1, -1, -2, -2, -2, -2, -2, -2], [0, -1, -1, -2, -2, -2, -2, -2, -2], [0, -1, -1, -2, -2, -2, -2, -2, -2]]\n"
     ]
    }
   ],
   "source": [
    "cost_list,control_list = Problem1_fn()\n",
    "print(cost_list)\n",
    "print(control_list)"
   ]
  },
  {
   "cell_type": "code",
   "execution_count": 5,
   "metadata": {},
   "outputs": [
    {
     "name": "stdout",
     "output_type": "stream",
     "text": [
      "11\n"
     ]
    }
   ],
   "source": [
    "# for minimum cost\n",
    "minimum_cost = min(cost_list[-1])\n",
    "print(minimum_cost)"
   ]
  },
  {
   "cell_type": "code",
   "execution_count": 6,
   "metadata": {},
   "outputs": [
    {
     "name": "stdout",
     "output_type": "stream",
     "text": [
      "146\n"
     ]
    }
   ],
   "source": [
    "# Part B\n",
    "print(cost_list[11][8])"
   ]
  },
  {
   "cell_type": "code",
   "execution_count": 7,
   "metadata": {},
   "outputs": [],
   "source": [
    "def path(x_n,control_list):\n",
    "    New=[]\n",
    "    T=[]\n",
    "    New.append(x_n)\n",
    "    for i in range(0,15):\n",
    "        T.append(control_list[14-i][x_n+4])\n",
    "        x_n = x_n+control_list[14-i][x_n+4]\n",
    "        New.append(x_n)\n",
    "    return New,T"
   ]
  },
  {
   "cell_type": "code",
   "execution_count": 8,
   "metadata": {},
   "outputs": [
    {
     "name": "stdout",
     "output_type": "stream",
     "text": [
      "State Sequence\n",
      "For X =0 [0, -2, -3, -4, -4, -4, -4, -4, -4, -4, -4, -4, -4, -3, -2, 0]\n",
      "For X =1 [0, -2, -3, -4, -4, -4, -4, -4, -4, -4, -4, -4, -4, -3, -2, 0]\n",
      "For X =-4 [-4, -4, -4, -4, -4, -4, -4, -4, -4, -4, -4, -4, -4, -3, -2, 0]\n",
      "Control Sequence\n",
      "For X =0 [-2, -1, -1, 0, 0, 0, 0, 0, 0, 0, 0, 0, 1, 1, 2]\n",
      "For X =1 [-2, -1, -1, 0, 0, 0, 0, 0, 0, 0, 0, 0, 1, 1, 2]\n",
      "For X =-4 [0, 0, 0, 0, 0, 0, 0, 0, 0, 0, 0, 0, 1, 1, 2]\n"
     ]
    },
    {
     "data": {
      "text/plain": [
       "Text(0.5, 1.0, 'Control v/s Stage')"
      ]
     },
     "execution_count": 8,
     "metadata": {},
     "output_type": "execute_result"
    },
    {
     "data": {
      "image/png": "[encoded data removed]",
      "text/plain": [
       "<Figure size 432x288 with 1 Axes>"
      ]
     },
     "metadata": {
      "needs_background": "light"
     },
     "output_type": "display_data"
    },
    {
     "data": {
      "image/png": "[encoded data removed]",
      "text/plain": [
       "<Figure size 432x288 with 1 Axes>"
      ]
     },
     "metadata": {
      "needs_background": "light"
     },
     "output_type": "display_data"
    }
   ],
   "source": [
    "t = np.arange(0,16)\n",
    "print('State Sequence')\n",
    "plt.figure(1)\n",
    "plt.plot(t, path(0,control_list)[0], 'r',label = \"x_0 = 0\")\n",
    "print('For X =0',path(0,control_list)[0])\n",
    "plt.plot(t, path(1,control_list)[0], 'b',label = \"x_0 = 1\")\n",
    "print('For X =1',path(0,control_list)[0])\n",
    "plt.plot(t, path(-4,control_list)[0], 'g',label = \"x_0 = -4\")\n",
    "print('For X =-4',path(-4,control_list)[0])\n",
    "plt.legend(loc=\"upper center\")\n",
    "plt.xlabel('Stage')\n",
    "plt.ylabel('State Sequence')\n",
    "plt.title('State Sequence v/s Stage')\n",
    "print('Control Sequence')\n",
    "t = np.arange(0,15)\n",
    "plt.figure(2)\n",
    "plt.plot(t, path(0,control_list)[1], 'r',label = \"x_0 = 0\")\n",
    "print('For X =0',path(0,control_list)[1])\n",
    "plt.plot(t, path(1,control_list)[1], 'b',label = \"x_0 = 1\")\n",
    "print('For X =1',path(0,control_list)[1])\n",
    "plt.plot(t, path(-4,control_list)[1], 'g',label = \"x_0 = -4\")\n",
    "print('For X =-4',path(-4,control_list)[1])\n",
    "plt.legend(loc=\"upper center\")\n",
    "plt.xlabel('Stage')\n",
    "plt.ylabel('Control')\n",
    "plt.title('Control v/s Stage')"
   ]
  },
  {
   "cell_type": "code",
   "execution_count": 9,
   "metadata": {},
   "outputs": [
    {
     "name": "stdout",
     "output_type": "stream",
     "text": [
      "optimal cost for x = -4 11\n",
      "optimal cost for x = 1 55\n",
      "optimal cost for x = 1 38\n"
     ]
    }
   ],
   "source": [
    "# Associated optical cost\n",
    "# for x =-4\n",
    "x_minus4 = cost_list[-1][0]\n",
    "print('optimal cost for x = -4',x_minus4)\n",
    "# for x =1\n",
    "x_1 = cost_list[-1][5]\n",
    "print('optimal cost for x = 1',x_1)\n",
    "# for x = 0\n",
    "x_0 = cost_list[-1][4]\n",
    "print('optimal cost for x = 1',x_0)"
   ]
  },
  {
   "cell_type": "code",
   "execution_count": 10,
   "metadata": {},
   "outputs": [],
   "source": [
    "def Problem2_fn():\n",
    "    cost_list = []\n",
    "    control_list = []\n",
    "    for i in range(0,16):\n",
    "        cost_final_list=[]\n",
    "        control_final_list=[]\n",
    "        if(i == 0):\n",
    "            for j in range(0,state_size):\n",
    "                if(state[j]==0):\n",
    "                    cost_final_list.append(0)\n",
    "                else:\n",
    "                    cost_final_list.append(0)\n",
    "        else:\n",
    "            for j in range(0,state_size):\n",
    "                cost_final = float('inf')\n",
    "                c = -4\n",
    "                for k in range(0,control_size):\n",
    "                    check = state[j]+control[k]\n",
    "                    if(check<5 and check>-5):\n",
    "                        cost_check = cost_list[-1][check+4]+(state[j]+4)*(state[j]+4)+control[k]*control[k]\n",
    "                        if(cost_check<cost_final):\n",
    "                            c = control[k]\n",
    "                            cost_final = cost_check\n",
    "                cost_final_list.append(cost_final)\n",
    "                control_final_list.append(c)\n",
    "        cost_list.append(cost_final_list)\n",
    "        if(i!=0):\n",
    "            control_list.append(control_final_list)\n",
    "    return cost_list,control_list"
   ]
  },
  {
   "cell_type": "code",
   "execution_count": 11,
   "metadata": {},
   "outputs": [
    {
     "name": "stdout",
     "output_type": "stream",
     "text": [
      "The optimal cost is 0\n",
      "State Sequence\n",
      "For X =0 [0, -2, -3, -4, -4, -4, -4, -4, -4, -4, -4, -4, -4, -4, -4, -4]\n",
      "For X =1 [0, -2, -3, -4, -4, -4, -4, -4, -4, -4, -4, -4, -4, -4, -4, -4]\n",
      "For X =-4 [-4, -4, -4, -4, -4, -4, -4, -4, -4, -4, -4, -4, -4, -4, -4, -4]\n",
      "Control Sequence\n",
      "For X =0 [-2, -1, -1, 0, 0, 0, 0, 0, 0, 0, 0, 0, 0, 0, 0]\n",
      "For X =1 [-2, -1, -1, 0, 0, 0, 0, 0, 0, 0, 0, 0, 0, 0, 0]\n",
      "For X =-4 [0, 0, 0, 0, 0, 0, 0, 0, 0, 0, 0, 0, 0, 0, 0]\n"
     ]
    },
    {
     "data": {
      "text/plain": [
       "Text(0.5, 1.0, 'Control v/s Stage')"
      ]
     },
     "execution_count": 11,
     "metadata": {},
     "output_type": "execute_result"
    },
    {
     "data": {
      "image/png": "[encoded data removed]",
      "text/plain": [
       "<Figure size 432x288 with 1 Axes>"
      ]
     },
     "metadata": {
      "needs_background": "light"
     },
     "output_type": "display_data"
    },
    {
     "data": {
      "image/png": "[encoded data removed]",
      "text/plain": [
       "<Figure size 432x288 with 1 Axes>"
      ]
     },
     "metadata": {
      "needs_background": "light"
     },
     "output_type": "display_data"
    }
   ],
   "source": [
    "cost_list,control_list = Problem2_fn()\n",
    "# optimal cost is\n",
    "# for minimum cost\n",
    "minimum_cost = min(cost_list[-1])\n",
    "print(\"The optimal cost is\", minimum_cost)\n",
    "\n",
    "t = np.arange(0,16)\n",
    "print('State Sequence')\n",
    "plt.figure(1)\n",
    "plt.plot(t, path(0,control_list)[0], 'r',label = \"x_0 = 0\")\n",
    "print('For X =0',path(0,control_list)[0])\n",
    "plt.plot(t, path(1,control_list)[0], 'b',label = \"x_0 = 1\")\n",
    "print('For X =1',path(0,control_list)[0])\n",
    "plt.plot(t, path(-4,control_list)[0], 'g',label = \"x_0 = -4\")\n",
    "print('For X =-4',path(-4,control_list)[0])\n",
    "plt.legend(loc=\"upper center\")\n",
    "plt.xlabel('Stage')\n",
    "plt.ylabel('State Sequence')\n",
    "plt.title('State Sequence v/s Stage')\n",
    "print('Control Sequence')\n",
    "t = np.arange(0,15)\n",
    "plt.figure(2)\n",
    "plt.plot(t, path(0,control_list)[1], 'r',label = \"x_0 = 0\")\n",
    "print('For X =0',path(0,control_list)[1])\n",
    "plt.plot(t, path(1,control_list)[1], 'b',label = \"x_0 = 1\")\n",
    "print('For X =1',path(0,control_list)[1])\n",
    "plt.plot(t, path(-4,control_list)[1], 'g',label = \"x_0 = -4\")\n",
    "print('For X =-4',path(-4,control_list)[1])\n",
    "plt.legend(loc=\"upper center\")\n",
    "plt.xlabel('Stage')\n",
    "plt.ylabel('Control')\n",
    "plt.title('Control v/s Stage')"
   ]
  },
  {
   "cell_type": "code",
   "execution_count": 12,
   "metadata": {},
   "outputs": [
    {
     "name": "stdout",
     "output_type": "stream",
     "text": [
      "optimal cost for x = -4 0\n",
      "optimal cost for x = 1 44\n",
      "optimal cost for x = 1 27\n"
     ]
    }
   ],
   "source": [
    "# Associated optical cost\n",
    "# for x =-4\n",
    "x_minus4 = cost_list[-1][0]\n",
    "print('optimal cost for x = -4',x_minus4)\n",
    "# for x =1\n",
    "x_1 = cost_list[-1][5]\n",
    "print('optimal cost for x = 1',x_1)\n",
    "# for x = 0\n",
    "x_0 = cost_list[-1][4]\n",
    "print('optimal cost for x = 1',x_0)"
   ]
  },
  {
   "cell_type": "code",
   "execution_count": 13,
   "metadata": {},
   "outputs": [],
   "source": [
    "def Problem3_fn():\n",
    "    cost_list = []\n",
    "    control_list = []\n",
    "    for i in range(0,16):\n",
    "        cost_final_list=[]\n",
    "        control_final_list=[]\n",
    "        if(i == 0):\n",
    "            for j in range(0,state_size):\n",
    "                if(state[j]==0):\n",
    "                    cost_final_list.append(0)\n",
    "                else:\n",
    "                    cost_final_list.append(0)\n",
    "        else:\n",
    "            for j in range(0,state_size):\n",
    "                cost_final = float('inf')\n",
    "                c = -4\n",
    "                for k in range(0,control_size):\n",
    "                    check = state[j]+control[k]\n",
    "                    if(check<5 and check>-5):\n",
    "                        cost_check = cost_list[-1][check+4]+(state[j]+4)*(state[j]+4)\n",
    "                        if(cost_check<cost_final):\n",
    "                            c = control[k]\n",
    "                            cost_final = cost_check\n",
    "                cost_final_list.append(cost_final)\n",
    "                control_final_list.append(c)\n",
    "        cost_list.append(cost_final_list)\n",
    "        if(i!=0):\n",
    "            control_list.append(control_final_list)\n",
    "    return cost_list,control_list"
   ]
  },
  {
   "cell_type": "code",
   "execution_count": 14,
   "metadata": {},
   "outputs": [],
   "source": [
    "cost_list,control_list = Problem3_fn()"
   ]
  },
  {
   "cell_type": "code",
   "execution_count": 15,
   "metadata": {},
   "outputs": [
    {
     "name": "stdout",
     "output_type": "stream",
     "text": [
      "The optimal cost is 0\n"
     ]
    }
   ],
   "source": [
    "# optimal cost \n",
    "# for minimum cost\n",
    "minimum_cost = min(cost_list[-1])\n",
    "print('The optimal cost is',minimum_cost)"
   ]
  },
  {
   "cell_type": "code",
   "execution_count": 16,
   "metadata": {},
   "outputs": [
    {
     "name": "stdout",
     "output_type": "stream",
     "text": [
      "The optimal cost is 0\n",
      "State Sequence\n",
      "For X =0 [0, -2, -4, -4, -4, -4, -4, -4, -4, -4, -4, -4, -4, -4, -4, -4]\n",
      "For X =1 [0, -2, -4, -4, -4, -4, -4, -4, -4, -4, -4, -4, -4, -4, -4, -4]\n",
      "For X =-4 [-4, -4, -4, -4, -4, -4, -4, -4, -4, -4, -4, -4, -4, -4, -4, -4]\n",
      "Control Sequence\n",
      "For X =0 [-2, -2, 0, 0, 0, 0, 0, 0, 0, 0, 0, 0, 0, 0, 0]\n",
      "For X =1 [-2, -2, 0, 0, 0, 0, 0, 0, 0, 0, 0, 0, 0, 0, 0]\n",
      "For X =-4 [0, 0, 0, 0, 0, 0, 0, 0, 0, 0, 0, 0, 0, 0, 0]\n"
     ]
    },
    {
     "data": {
      "text/plain": [
       "Text(0.5, 1.0, 'Control v/s Stage')"
      ]
     },
     "execution_count": 16,
     "metadata": {},
     "output_type": "execute_result"
    },
    {
     "data": {
      "image/png": "[encoded data removed]",
      "text/plain": [
       "<Figure size 432x288 with 1 Axes>"
      ]
     },
     "metadata": {
      "needs_background": "light"
     },
     "output_type": "display_data"
    },
    {
     "data": {
      "image/png": "[encoded data removed]",
      "text/plain": [
       "<Figure size 432x288 with 1 Axes>"
      ]
     },
     "metadata": {
      "needs_background": "light"
     },
     "output_type": "display_data"
    }
   ],
   "source": [
    "minimum_cost = min(cost_list[-1])\n",
    "print(\"The optimal cost is\", minimum_cost)\n",
    "\n",
    "t = np.arange(0,16)\n",
    "print('State Sequence')\n",
    "plt.figure(1)\n",
    "plt.plot(t, path(0,control_list)[0], 'r',label = \"x_0 = 0\")\n",
    "print('For X =0',path(0,control_list)[0])\n",
    "plt.plot(t, path(1,control_list)[0], 'b',label = \"x_0 = 1\")\n",
    "print('For X =1',path(0,control_list)[0])\n",
    "plt.plot(t, path(-4,control_list)[0], 'g',label = \"x_0 = -4\")\n",
    "print('For X =-4',path(-4,control_list)[0])\n",
    "plt.legend(loc=\"upper center\")\n",
    "plt.xlabel('Stage')\n",
    "plt.ylabel('State Sequence')\n",
    "plt.title('State Sequence v/s Stage')\n",
    "print('Control Sequence')\n",
    "t = np.arange(0,15)\n",
    "plt.figure(2)\n",
    "plt.plot(t, path(0,control_list)[1], 'r',label = \"x_0 = 0\")\n",
    "print('For X =0',path(0,control_list)[1])\n",
    "plt.plot(t, path(1,control_list)[1], 'b',label = \"x_0 = 1\")\n",
    "print('For X =1',path(0,control_list)[1])\n",
    "plt.plot(t, path(-4,control_list)[1], 'g',label = \"x_0 = -4\")\n",
    "print('For X =-4',path(-4,control_list)[1])\n",
    "plt.legend(loc=\"upper center\")\n",
    "plt.xlabel('Stage')\n",
    "plt.ylabel('Control')\n",
    "plt.title('Control v/s Stage')"
   ]
  },
  {
   "cell_type": "code",
   "execution_count": 17,
   "metadata": {},
   "outputs": [
    {
     "name": "stdout",
     "output_type": "stream",
     "text": [
      "optimal cost for x = -4 0\n",
      "optimal cost for x = 1 35\n",
      "optimal cost for x = 1 20\n"
     ]
    }
   ],
   "source": [
    "# Associated optical cost\n",
    "# for x =-4\n",
    "x_minus4 = cost_list[-1][0]\n",
    "print('optimal cost for x = -4',x_minus4)\n",
    "# for x =1\n",
    "x_1 = cost_list[-1][5]\n",
    "print('optimal cost for x = 1',x_1)\n",
    "# for x = 0\n",
    "x_0 = cost_list[-1][4]\n",
    "print('optimal cost for x = 1',x_0)"
   ]
  },
  {
   "cell_type": "code",
   "execution_count": null,
   "metadata": {},
   "outputs": [],
   "source": []
  },
  {
   "cell_type": "code",
   "execution_count": null,
   "metadata": {},
   "outputs": [],
   "source": []
  }
 ],
 "metadata": {
  "kernelspec": {
   "display_name": "Python 3",
   "language": "python",
   "name": "python3"
  },
  "language_info": {
   "codemirror_mode": {
    "name": "ipython",
    "version": 3
   },
   "file_extension": ".py",
   "mimetype": "text/x-python",
   "name": "python",
   "nbconvert_exporter": "python",
   "pygments_lexer": "ipython3",
   "version": "3.7.4"
  }
 },
 "nbformat": 4,
 "nbformat_minor": 4
}
